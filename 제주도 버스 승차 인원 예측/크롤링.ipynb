{
 "cells": [
  {
   "cell_type": "code",
   "execution_count": 1,
   "metadata": {},
   "outputs": [],
   "source": [
    "from selenium import webdriver\n",
    "import time\n",
    "import pandas as pd"
   ]
  },
  {
   "cell_type": "code",
   "execution_count": 3,
   "metadata": {},
   "outputs": [],
   "source": [
    "# 구글 지도 불러오기\n",
    "driver = webdriver.Chrome(r\"/Users/gunwook/Desktop/git_folder/데이터사이언스입문/chromedriver\")\n",
    "driver.get('https://www.google.com/search?sxsrf=ACYBGNRRbtVEkk2vDRsFZncu6PMUJ76exw:1574256486269&q=%EC%A0%9C%EC%A3%BC%EB%8F%84+%EC%A0%95%EB%A5%98%EC%9E%A5&npsic=0&rflfq=1&rlha=0&rllag=33377798,126386723,18237&tbm=lcl&ved=2ahUKEwiM0Ji18vjlAhUi-2EKHV5_AT4QjGp6BAgLEBQ&tbs=lrf:!3sIAE,lf:1,lf_ui:3&rldoc=1#rldoc=1&rlfi=hd:;si:;mv:[[33.535328299999996,126.76294639999999],[33.233164699999996,126.2361753]]')"
   ]
  },
  {
   "cell_type": "code",
   "execution_count": 8,
   "metadata": {},
   "outputs": [],
   "source": [
    "driver.find_element_by_xpath('//*[@id=\"mKlEF\"]').click()"
   ]
  },
  {
   "cell_type": "code",
   "execution_count": 14,
   "metadata": {},
   "outputs": [],
   "source": [
    "list0=[]\n",
    "list1=[]\n",
    "boxItems=driver.find_elements_by_css_selector('div.dbg0pd')\n",
    "for j in range(0,len(boxItems)):\n",
    "    elem=boxItems[j].find_element_by_css_selector('div')\n",
    "    a=elem.text\n",
    "    list0.append(a)\n",
    "    elem.click()\n",
    "    time.sleep(1.5)\n",
    "    b=driver.find_element_by_css_selector('span.LrzXr').text\n",
    "    list1.append(b)\n",
    "    df=pd.DataFrame(list0)\n",
    "    df['동']=list1\n",
    "    # 페이지 바꿔가면서 진행함. \n",
    "    df.to_csv('제주도12.csv')"
   ]
  },
  {
   "cell_type": "code",
   "execution_count": 18,
   "metadata": {},
   "outputs": [],
   "source": [
    "df1=pd.read_csv('test 좌표.csv')"
   ]
  },
  {
   "cell_type": "code",
   "execution_count": 21,
   "metadata": {},
   "outputs": [],
   "source": [
    "df1.rename(columns={'0':'정류소'},inplace=True)"
   ]
  },
  {
   "cell_type": "code",
   "execution_count": 26,
   "metadata": {},
   "outputs": [],
   "source": [
    "elem=driver.find_element_by_css_selector('#lst-ib')\n"
   ]
  },
  {
   "cell_type": "code",
   "execution_count": 27,
   "metadata": {},
   "outputs": [],
   "source": [
    "elem.clear()"
   ]
  },
  {
   "cell_type": "code",
   "execution_count": 30,
   "metadata": {
    "scrolled": true
   },
   "outputs": [
    {
     "data": {
      "text/html": [
       "<div>\n",
       "<style scoped>\n",
       "    .dataframe tbody tr th:only-of-type {\n",
       "        vertical-align: middle;\n",
       "    }\n",
       "\n",
       "    .dataframe tbody tr th {\n",
       "        vertical-align: top;\n",
       "    }\n",
       "\n",
       "    .dataframe thead th {\n",
       "        text-align: right;\n",
       "    }\n",
       "</style>\n",
       "<table border=\"1\" class=\"dataframe\">\n",
       "  <thead>\n",
       "    <tr style=\"text-align: right;\">\n",
       "      <th></th>\n",
       "      <th>Unnamed: 0</th>\n",
       "      <th>정류소</th>\n",
       "    </tr>\n",
       "  </thead>\n",
       "  <tbody>\n",
       "    <tr>\n",
       "      <td>0</td>\n",
       "      <td>0</td>\n",
       "      <td>33.53719,126.6667</td>\n",
       "    </tr>\n",
       "    <tr>\n",
       "      <td>1</td>\n",
       "      <td>1</td>\n",
       "      <td>33.463770000000004,126.5208</td>\n",
       "    </tr>\n",
       "    <tr>\n",
       "      <td>2</td>\n",
       "      <td>2</td>\n",
       "      <td>33.259409999999995,126.47365</td>\n",
       "    </tr>\n",
       "    <tr>\n",
       "      <td>3</td>\n",
       "      <td>3</td>\n",
       "      <td>33.5269,126.78918</td>\n",
       "    </tr>\n",
       "    <tr>\n",
       "      <td>4</td>\n",
       "      <td>4</td>\n",
       "      <td>33.29693,126.22997</td>\n",
       "    </tr>\n",
       "    <tr>\n",
       "      <td>5</td>\n",
       "      <td>5</td>\n",
       "      <td>33.27573,126.6664</td>\n",
       "    </tr>\n",
       "    <tr>\n",
       "      <td>6</td>\n",
       "      <td>6</td>\n",
       "      <td>33.29013,126.60706</td>\n",
       "    </tr>\n",
       "    <tr>\n",
       "      <td>7</td>\n",
       "      <td>7</td>\n",
       "      <td>33.39828,126.80358</td>\n",
       "    </tr>\n",
       "    <tr>\n",
       "      <td>8</td>\n",
       "      <td>8</td>\n",
       "      <td>33.4425,126.38427</td>\n",
       "    </tr>\n",
       "    <tr>\n",
       "      <td>9</td>\n",
       "      <td>9</td>\n",
       "      <td>33.508590000000005,126.67321</td>\n",
       "    </tr>\n",
       "    <tr>\n",
       "      <td>10</td>\n",
       "      <td>10</td>\n",
       "      <td>33.41698,126.84021</td>\n",
       "    </tr>\n",
       "    <tr>\n",
       "      <td>11</td>\n",
       "      <td>11</td>\n",
       "      <td>33.2944,126.63187</td>\n",
       "    </tr>\n",
       "    <tr>\n",
       "      <td>12</td>\n",
       "      <td>12</td>\n",
       "      <td>33.24723,126.41686</td>\n",
       "    </tr>\n",
       "    <tr>\n",
       "      <td>13</td>\n",
       "      <td>13</td>\n",
       "      <td>33.422340000000005,126.54963</td>\n",
       "    </tr>\n",
       "    <tr>\n",
       "      <td>14</td>\n",
       "      <td>14</td>\n",
       "      <td>33.50508,126.77245</td>\n",
       "    </tr>\n",
       "    <tr>\n",
       "      <td>15</td>\n",
       "      <td>15</td>\n",
       "      <td>33.31624,126.2495</td>\n",
       "    </tr>\n",
       "    <tr>\n",
       "      <td>16</td>\n",
       "      <td>16</td>\n",
       "      <td>33.29858,126.68123</td>\n",
       "    </tr>\n",
       "    <tr>\n",
       "      <td>17</td>\n",
       "      <td>17</td>\n",
       "      <td>33.5007,126.6886</td>\n",
       "    </tr>\n",
       "    <tr>\n",
       "      <td>18</td>\n",
       "      <td>18</td>\n",
       "      <td>33.34138,126.22879</td>\n",
       "    </tr>\n",
       "    <tr>\n",
       "      <td>19</td>\n",
       "      <td>19</td>\n",
       "      <td>33.50068,126.81583</td>\n",
       "    </tr>\n",
       "    <tr>\n",
       "      <td>20</td>\n",
       "      <td>20</td>\n",
       "      <td>33.37493,126.84528</td>\n",
       "    </tr>\n",
       "    <tr>\n",
       "      <td>21</td>\n",
       "      <td>21</td>\n",
       "      <td>33.45141,126.38508</td>\n",
       "    </tr>\n",
       "    <tr>\n",
       "      <td>22</td>\n",
       "      <td>22</td>\n",
       "      <td>33.526990000000005,126.78933</td>\n",
       "    </tr>\n",
       "    <tr>\n",
       "      <td>23</td>\n",
       "      <td>23</td>\n",
       "      <td>33.312470000000005,126.72146</td>\n",
       "    </tr>\n",
       "    <tr>\n",
       "      <td>24</td>\n",
       "      <td>24</td>\n",
       "      <td>33.455870000000004,126.3483</td>\n",
       "    </tr>\n",
       "    <tr>\n",
       "      <td>25</td>\n",
       "      <td>25</td>\n",
       "      <td>33.516290000000005,126.95547</td>\n",
       "    </tr>\n",
       "    <tr>\n",
       "      <td>26</td>\n",
       "      <td>26</td>\n",
       "      <td>33.51802,126.95316</td>\n",
       "    </tr>\n",
       "    <tr>\n",
       "      <td>27</td>\n",
       "      <td>27</td>\n",
       "      <td>33.50918,126.94809</td>\n",
       "    </tr>\n",
       "    <tr>\n",
       "      <td>28</td>\n",
       "      <td>28</td>\n",
       "      <td>33.302409999999995,126.25858999999998</td>\n",
       "    </tr>\n",
       "    <tr>\n",
       "      <td>29</td>\n",
       "      <td>29</td>\n",
       "      <td>33.45217,126.36229</td>\n",
       "    </tr>\n",
       "    <tr>\n",
       "      <td>30</td>\n",
       "      <td>30</td>\n",
       "      <td>33.25648,126.43285</td>\n",
       "    </tr>\n",
       "    <tr>\n",
       "      <td>31</td>\n",
       "      <td>31</td>\n",
       "      <td>33.94586,126.32849</td>\n",
       "    </tr>\n",
       "    <tr>\n",
       "      <td>32</td>\n",
       "      <td>32</td>\n",
       "      <td>33.49991,126.61992</td>\n",
       "    </tr>\n",
       "    <tr>\n",
       "      <td>33</td>\n",
       "      <td>33</td>\n",
       "      <td>33.30205,126.18919</td>\n",
       "    </tr>\n",
       "    <tr>\n",
       "      <td>34</td>\n",
       "      <td>34</td>\n",
       "      <td>33.22094,126.26695</td>\n",
       "    </tr>\n",
       "    <tr>\n",
       "      <td>35</td>\n",
       "      <td>35</td>\n",
       "      <td>33.49285,126.65075</td>\n",
       "    </tr>\n",
       "    <tr>\n",
       "      <td>36</td>\n",
       "      <td>36</td>\n",
       "      <td>33.28273,126.60763</td>\n",
       "    </tr>\n",
       "  </tbody>\n",
       "</table>\n",
       "</div>"
      ],
      "text/plain": [
       "    Unnamed: 0                                    정류소\n",
       "0            0                      33.53719,126.6667\n",
       "1            1            33.463770000000004,126.5208\n",
       "2            2           33.259409999999995,126.47365\n",
       "3            3                      33.5269,126.78918\n",
       "4            4                     33.29693,126.22997\n",
       "5            5                      33.27573,126.6664\n",
       "6            6                     33.29013,126.60706\n",
       "7            7                     33.39828,126.80358\n",
       "8            8                      33.4425,126.38427\n",
       "9            9           33.508590000000005,126.67321\n",
       "10          10                     33.41698,126.84021\n",
       "11          11                      33.2944,126.63187\n",
       "12          12                     33.24723,126.41686\n",
       "13          13           33.422340000000005,126.54963\n",
       "14          14                     33.50508,126.77245\n",
       "15          15                      33.31624,126.2495\n",
       "16          16                     33.29858,126.68123\n",
       "17          17                       33.5007,126.6886\n",
       "18          18                     33.34138,126.22879\n",
       "19          19                     33.50068,126.81583\n",
       "20          20                     33.37493,126.84528\n",
       "21          21                     33.45141,126.38508\n",
       "22          22           33.526990000000005,126.78933\n",
       "23          23           33.312470000000005,126.72146\n",
       "24          24            33.455870000000004,126.3483\n",
       "25          25           33.516290000000005,126.95547\n",
       "26          26                     33.51802,126.95316\n",
       "27          27                     33.50918,126.94809\n",
       "28          28  33.302409999999995,126.25858999999998\n",
       "29          29                     33.45217,126.36229\n",
       "30          30                     33.25648,126.43285\n",
       "31          31                     33.94586,126.32849\n",
       "32          32                     33.49991,126.61992\n",
       "33          33                     33.30205,126.18919\n",
       "34          34                     33.22094,126.26695\n",
       "35          35                     33.49285,126.65075\n",
       "36          36                     33.28273,126.60763"
      ]
     },
     "execution_count": 30,
     "metadata": {},
     "output_type": "execute_result"
    }
   ],
   "source": [
    "df1"
   ]
  },
  {
   "cell_type": "code",
   "execution_count": 31,
   "metadata": {},
   "outputs": [],
   "source": [
    "driver.get('https://www.google.com/maps/@37.5605671,126.9433486,14z?hl=ko')"
   ]
  },
  {
   "cell_type": "code",
   "execution_count": 32,
   "metadata": {},
   "outputs": [],
   "source": [
    "# 좌표 기준 최대한 가까운 동 뽑기\n",
    "list0=[]\n",
    "list2=[]\n",
    "for i in df1['정류소'].unique():\n",
    "    try:\n",
    "        elem=driver.find_element_by_css_selector('#searchboxinput')\n",
    "        elem.clear()\n",
    "        elem.send_keys(i)\n",
    "        driver.find_element_by_xpath('//*[@id=\"searchbox-searchbutton\"]').click()\n",
    "        time.sleep(3)\n",
    "        list0.append(i)\n",
    "        b=driver.find_element_by_css_selector('#pane > div > div.widget-pane-content.scrollable-y > div > div > div:nth-child(9) > div > div.section-info-line > span.section-info-text > span.widget-pane-link').text\n",
    "        list2.append(b)\n",
    "        time.sleep(3)\n",
    "    except: \n",
    "        list2.append('없음')\n",
    "    "
   ]
  },
  {
   "cell_type": "code",
   "execution_count": 37,
   "metadata": {},
   "outputs": [],
   "source": [
    "df5=pd.DataFrame(list0)"
   ]
  },
  {
   "cell_type": "code",
   "execution_count": 38,
   "metadata": {},
   "outputs": [
    {
     "data": {
      "text/html": [
       "<div>\n",
       "<style scoped>\n",
       "    .dataframe tbody tr th:only-of-type {\n",
       "        vertical-align: middle;\n",
       "    }\n",
       "\n",
       "    .dataframe tbody tr th {\n",
       "        vertical-align: top;\n",
       "    }\n",
       "\n",
       "    .dataframe thead th {\n",
       "        text-align: right;\n",
       "    }\n",
       "</style>\n",
       "<table border=\"1\" class=\"dataframe\">\n",
       "  <thead>\n",
       "    <tr style=\"text-align: right;\">\n",
       "      <th></th>\n",
       "      <th>0</th>\n",
       "    </tr>\n",
       "  </thead>\n",
       "  <tbody>\n",
       "    <tr>\n",
       "      <td>0</td>\n",
       "      <td>33.53719,126.6667</td>\n",
       "    </tr>\n",
       "    <tr>\n",
       "      <td>1</td>\n",
       "      <td>33.463770000000004,126.5208</td>\n",
       "    </tr>\n",
       "  </tbody>\n",
       "</table>\n",
       "</div>"
      ],
      "text/plain": [
       "                             0\n",
       "0            33.53719,126.6667\n",
       "1  33.463770000000004,126.5208"
      ]
     },
     "execution_count": 38,
     "metadata": {},
     "output_type": "execute_result"
    }
   ],
   "source": [
    "df5"
   ]
  },
  {
   "cell_type": "code",
   "execution_count": 16,
   "metadata": {},
   "outputs": [],
   "source": [
    "df5['동']=list2"
   ]
  },
  {
   "cell_type": "code",
   "execution_count": 17,
   "metadata": {},
   "outputs": [],
   "source": [
    "df5.to_csv('동1.csv')"
   ]
  },
  {
   "cell_type": "code",
   "execution_count": 188,
   "metadata": {},
   "outputs": [],
   "source": [
    "boxItems=driver.find_elements_by_css_selector('div.dbg0pd')"
   ]
  },
  {
   "cell_type": "code",
   "execution_count": 190,
   "metadata": {},
   "outputs": [
    {
     "data": {
      "text/plain": [
       "'제주썬호텔&카지노'"
      ]
     },
     "execution_count": 190,
     "metadata": {},
     "output_type": "execute_result"
    }
   ],
   "source": [
    "boxItems[0].find_element_by_css_selector('div').text"
   ]
  },
  {
   "cell_type": "code",
   "execution_count": 22,
   "metadata": {},
   "outputs": [],
   "source": [
    "#다음 페이지 버튼 클릭 1페이지\n",
    "driver.find_element_by_xpath('/html/body/div[3]/div/div/div[6]/div[4]/button[2]').click()"
   ]
  },
  {
   "cell_type": "code",
   "execution_count": 24,
   "metadata": {},
   "outputs": [],
   "source": [
    "#다음 페이지 버튼 클릭 2페이지 이후\n",
    "driver.find_element_by_xpath('/html/body/div[3]/div/div/div[6]/div[4]/button[3]').click()"
   ]
  },
  {
   "cell_type": "code",
   "execution_count": 38,
   "metadata": {},
   "outputs": [],
   "source": [
    "driver.close()"
   ]
  },
  {
   "cell_type": "code",
   "execution_count": 171,
   "metadata": {},
   "outputs": [],
   "source": [
    "df1=pd.read_csv('제주도1.csv')\n",
    "df2=pd.read_csv('제주도2.csv')\n",
    "df3=pd.read_csv('제주도3.csv')\n",
    "df4=pd.read_csv('제주도4.csv')\n",
    "df5=pd.read_csv('제주도5.csv')\n",
    "df6=pd.read_csv('제주도6.csv')\n",
    "df7=pd.read_csv('제주도7.csv')\n",
    "df8=pd.read_csv('제주도8.csv')\n",
    "df9=pd.read_csv('제주도9.csv')\n",
    "df10=pd.read_csv('제주도10.csv')\n",
    "df11=pd.read_csv('제주도11.csv')"
   ]
  },
  {
   "cell_type": "code",
   "execution_count": 172,
   "metadata": {},
   "outputs": [],
   "source": [
    "df_con=pd.concat([df1,df2,df3,df4,df5,df6,df7,df8,df9,df10,df11])"
   ]
  },
  {
   "cell_type": "code",
   "execution_count": 175,
   "metadata": {},
   "outputs": [],
   "source": [
    "df_con.drop(columns=['Unnamed: 0'],inplace=True)"
   ]
  },
  {
   "cell_type": "code",
   "execution_count": 178,
   "metadata": {},
   "outputs": [],
   "source": [
    "df_con=df_con.reset_index()"
   ]
  },
  {
   "cell_type": "code",
   "execution_count": 180,
   "metadata": {},
   "outputs": [],
   "source": [
    "del df_con['index']"
   ]
  },
  {
   "cell_type": "code",
   "execution_count": 181,
   "metadata": {},
   "outputs": [],
   "source": [
    "df_con.to_csv('제주도.csv')"
   ]
  },
  {
   "cell_type": "code",
   "execution_count": null,
   "metadata": {},
   "outputs": [],
   "source": []
  }
 ],
 "metadata": {
  "kernelspec": {
   "display_name": "Python 3",
   "language": "python",
   "name": "python3"
  }
 },
 "nbformat": 4,
 "nbformat_minor": 2
}
